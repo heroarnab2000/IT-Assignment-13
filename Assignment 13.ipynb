{
 "cells": [
  {
   "cell_type": "markdown",
   "metadata": {},
   "source": [
    "# Name: Arnab Das, Roll: 17, Assignment: 13"
   ]
  },
  {
   "cell_type": "code",
   "execution_count": null,
   "metadata": {},
   "outputs": [],
   "source": []
  },
  {
   "cell_type": "markdown",
   "metadata": {},
   "source": [
    "#### 1) Write a file. Read the file and print its content. Read first two lines. Read first 5 characters. Read the file using loop."
   ]
  },
  {
   "cell_type": "code",
   "execution_count": 1,
   "metadata": {},
   "outputs": [
    {
     "name": "stdout",
     "output_type": "stream",
     "text": [
      "Physical partition of hard-disk is known as Drive.\n",
      "Logical subdivision of a hard disk space is called a Folder or Directory.\n",
      "A File is a container containing relevant information.\n",
      "Physical partition of hard-disk is known as Drive.\n",
      "\n",
      "Logical subdivision of a hard disk space is called a Folder or Directory.\n",
      "\n",
      "Physi\n",
      "\n",
      "Physical partition of hard-disk is known as Drive.\n",
      "\n",
      "Logical subdivision of a hard disk space is called a Folder or Directory.\n",
      "\n",
      "A File is a container containing relevant information.\n"
     ]
    }
   ],
   "source": [
    "file = open('IT workshop/test.txt', 'r')\n",
    "\n",
    "print(file.read())\n",
    "file.seek(0)\n",
    "\n",
    "print(file.readline())\n",
    "print(file.readline())\n",
    "file.seek(0)\n",
    "\n",
    "print(file.read(5))\n",
    "file.seek(0)\n",
    "print()\n",
    "\n",
    "for line in file:\n",
    "    print(line)\n",
    "    \n",
    "file.close()"
   ]
  },
  {
   "cell_type": "code",
   "execution_count": null,
   "metadata": {},
   "outputs": [],
   "source": []
  },
  {
   "cell_type": "markdown",
   "metadata": {},
   "source": [
    "#### 2) Append content in the above mentioned file."
   ]
  },
  {
   "cell_type": "code",
   "execution_count": 2,
   "metadata": {},
   "outputs": [
    {
     "name": "stdout",
     "output_type": "stream",
     "text": [
      "Physical partition of hard-disk is known as Drive.\n",
      "Logical subdivision of a hard disk space is called a Folder or Directory.\n",
      "A File is a container containing relevant information.\n",
      "Romeo-Juliet is a masterpiece\n"
     ]
    }
   ],
   "source": [
    "file = open('IT workshop/test.txt','a') \n",
    "file.write(\"\\nRomeo-Juliet is a masterpiece\")\n",
    "file.close()\n",
    "\n",
    "f = open('IT workshop/test.txt', 'r')\n",
    "print(f.read())"
   ]
  },
  {
   "cell_type": "code",
   "execution_count": null,
   "metadata": {},
   "outputs": [],
   "source": []
  },
  {
   "cell_type": "markdown",
   "metadata": {},
   "source": [
    "#### 3) Check whether a file exists or not. Delete it."
   ]
  },
  {
   "cell_type": "code",
   "execution_count": 3,
   "metadata": {},
   "outputs": [
    {
     "name": "stdout",
     "output_type": "stream",
     "text": [
      "True\n",
      "False\n",
      "True\n",
      "False\n"
     ]
    }
   ],
   "source": [
    "import os.path\n",
    "from os import path\n",
    "\n",
    "print(path.exists('IT workshop/test.txt'))\n",
    "print(path.exists('IT workshop/new_test.txt'))\n",
    "print(path.exists('IT workshop/test2.txt'))\n",
    "\n",
    "if path.exists('IT workshop/test2.txt'):\n",
    "    os.remove('IT workshop/test2.txt')\n",
    "\n",
    "else:\n",
    "    print('File does not exist')\n",
    "    \n",
    "print(path.exists('IT workshop/test2.txt'))"
   ]
  },
  {
   "cell_type": "code",
   "execution_count": null,
   "metadata": {},
   "outputs": [],
   "source": []
  },
  {
   "cell_type": "markdown",
   "metadata": {},
   "source": [
    "#### 4) Print the words written in the first line of a file. Access each word using a loop."
   ]
  },
  {
   "cell_type": "code",
   "execution_count": 4,
   "metadata": {},
   "outputs": [
    {
     "name": "stdout",
     "output_type": "stream",
     "text": [
      "['Physical', 'partition', 'of', 'hard-disk', 'is', 'known', 'as', 'Drive.']\n"
     ]
    }
   ],
   "source": [
    "file = open('IT workshop/test.txt', 'r')\n",
    "\n",
    "lines = file.readlines()\n",
    "for line in lines:\n",
    "    word = line.split()\n",
    "    print(word)\n",
    "    break\n",
    "\n",
    "file.close()"
   ]
  },
  {
   "cell_type": "code",
   "execution_count": null,
   "metadata": {},
   "outputs": [],
   "source": []
  },
  {
   "cell_type": "markdown",
   "metadata": {},
   "source": [
    "#### 5) Count the number of lines in a file."
   ]
  },
  {
   "cell_type": "code",
   "execution_count": 5,
   "metadata": {},
   "outputs": [
    {
     "name": "stdout",
     "output_type": "stream",
     "text": [
      "4\n"
     ]
    }
   ],
   "source": [
    "file = open('IT workshop/test.txt', 'r')\n",
    "\n",
    "lines = file.readlines()\n",
    "print(len(lines))\n",
    "file.close()"
   ]
  },
  {
   "cell_type": "code",
   "execution_count": null,
   "metadata": {},
   "outputs": [],
   "source": []
  },
  {
   "cell_type": "markdown",
   "metadata": {},
   "source": [
    "#### 6) Count the number of words in a file."
   ]
  },
  {
   "cell_type": "code",
   "execution_count": 9,
   "metadata": {},
   "outputs": [
    {
     "name": "stdout",
     "output_type": "stream",
     "text": [
      "Number of words is:  33\n"
     ]
    }
   ],
   "source": [
    "file = open('IT workshop/test.txt', 'r')\n",
    "\n",
    "lines = file.readlines()\n",
    "count = 0\n",
    "\n",
    "for line in lines:\n",
    "    for ch in line:\n",
    "        if ch == ' ' or ch == '\\n':\n",
    "            count += 1\n",
    "\n",
    "print('Number of words is: ', count + 1)\n",
    "file.close()"
   ]
  },
  {
   "cell_type": "code",
   "execution_count": null,
   "metadata": {},
   "outputs": [],
   "source": []
  },
  {
   "cell_type": "markdown",
   "metadata": {},
   "source": [
    "#### 7) Find the maximum length words in a file."
   ]
  },
  {
   "cell_type": "code",
   "execution_count": 8,
   "metadata": {},
   "outputs": [
    {
     "name": "stdout",
     "output_type": "stream",
     "text": [
      "Word with maximum length is:  subdivision\n"
     ]
    }
   ],
   "source": [
    "file = open('IT workshop/test.txt', 'r')\n",
    "\n",
    "lines = file.readlines()\n",
    "word = []\n",
    "\n",
    "for line in lines:\n",
    "    word.extend(line.split())\n",
    "    \n",
    "print('Word with maximum length is: ', max(word))\n",
    "file.close()"
   ]
  },
  {
   "cell_type": "code",
   "execution_count": null,
   "metadata": {},
   "outputs": [],
   "source": []
  },
  {
   "cell_type": "markdown",
   "metadata": {},
   "source": [
    "#### 8) Write a program in Python that reads the text from a file and writes it into another file but in reverse order."
   ]
  },
  {
   "cell_type": "code",
   "execution_count": 14,
   "metadata": {},
   "outputs": [
    {
     "name": "stdout",
     "output_type": "stream",
     "text": [
      "Physical partition of hard-disk is known as Drive.\n",
      "Logical subdivision of a hard disk space is called a Folder or Directory.\n",
      "A File is a container containing relevant information.\n",
      "Romeo-Juliet is a masterpiece\n"
     ]
    }
   ],
   "source": [
    "file = open('IT workshop/test.txt', 'r')\n",
    "\n",
    "lines = file.readlines()\n",
    "word2 = ''\n",
    "\n",
    "for line in lines:\n",
    "    for ch in line:\n",
    "        word2 = word2 + ch \n",
    "print(word2)    \n",
    "file.close()\n",
    "i = 1\n",
    "\n",
    "with open('IT workshop/file.txt', 'w') as file:\n",
    "    for x in word:\n",
    "        c = word[len(word) - i]\n",
    "        i += 1\n",
    "        file.write(c)"
   ]
  },
  {
   "cell_type": "code",
   "execution_count": null,
   "metadata": {},
   "outputs": [],
   "source": []
  },
  {
   "cell_type": "markdown",
   "metadata": {},
   "source": [
    "#### 9) Write a program in Python to compare two"
   ]
  },
  {
   "cell_type": "code",
   "execution_count": 15,
   "metadata": {},
   "outputs": [
    {
     "name": "stdout",
     "output_type": "stream",
     "text": [
      "True\n"
     ]
    }
   ],
   "source": [
    "import filecmp\n",
    "\n",
    "file1 = 'IT workshop/test.txt'\n",
    "file2 = 'IT workshop/new_test.txt'\n",
    "\n",
    "comp = filecmp.cmp(file1, file2, shallow = False)\n",
    "\n",
    "print(comp)"
   ]
  },
  {
   "cell_type": "code",
   "execution_count": null,
   "metadata": {},
   "outputs": [],
   "source": []
  },
  {
   "cell_type": "markdown",
   "metadata": {},
   "source": [
    "#### 10) Write a program in Python to copy the content of one file into another character by character."
   ]
  },
  {
   "cell_type": "code",
   "execution_count": 16,
   "metadata": {},
   "outputs": [],
   "source": [
    "file = open('IT workshop/test.txt', 'r')\n",
    "\n",
    "lines = file.readlines()\n",
    "word = ''\n",
    "\n",
    "for line in lines:\n",
    "    for ch in line:\n",
    "        word = word + ch\n",
    "file.close()\n",
    "\n",
    "with open('IT workshop/newfile.txt', 'w') as file: \n",
    "    for x in word:\n",
    "        file.write(x)"
   ]
  },
  {
   "cell_type": "code",
   "execution_count": null,
   "metadata": {},
   "outputs": [],
   "source": []
  },
  {
   "cell_type": "markdown",
   "metadata": {},
   "source": [
    "#### 11) Write a program in Python which converts the case of one file into another."
   ]
  },
  {
   "cell_type": "code",
   "execution_count": 18,
   "metadata": {},
   "outputs": [],
   "source": [
    "file = open('IT workshop/test.txt', 'r')\n",
    "\n",
    "lines = file.readlines()\n",
    "new_word = ''\n",
    "\n",
    "for line in lines:\n",
    "    for ch in line:\n",
    "        if ch.lower():\n",
    "            new_word = new_word + ch.upper()\n",
    "        elif ch.upper():\n",
    "            new_word = new_word + ch.lower()\n",
    "        else:\n",
    "            new_word = new_word + ' '\n",
    "file.close()\n",
    "\n",
    "\n",
    "with open('IT workshop/newfile2.txt', 'w') as file: \n",
    "    for x in new_word:\n",
    "        file.write(x)"
   ]
  },
  {
   "cell_type": "code",
   "execution_count": null,
   "metadata": {},
   "outputs": [],
   "source": []
  },
  {
   "cell_type": "markdown",
   "metadata": {},
   "source": [
    "#### 12) Write a program in Python to merge the content of two files (one after another)."
   ]
  },
  {
   "cell_type": "code",
   "execution_count": 20,
   "metadata": {},
   "outputs": [],
   "source": [
    "data = data2 = \"\" \n",
    "\n",
    "with open('IT workshop/test.txt') as fp: \n",
    "    data = fp.read() \n",
    "    \n",
    "with open('IT workshop/newfilecopy.txt') as fp: \n",
    "    data2 = fp.read() \n",
    "\n",
    "data += \"\\n\"\n",
    "data += data2 \n",
    "  \n",
    "with open ('IT workshop/newfile3.txt', 'w') as fp: \n",
    "    fp.write(data)"
   ]
  },
  {
   "cell_type": "code",
   "execution_count": null,
   "metadata": {},
   "outputs": [],
   "source": []
  }
 ],
 "metadata": {
  "kernelspec": {
   "display_name": "Python 3",
   "language": "python",
   "name": "python3"
  },
  "language_info": {
   "codemirror_mode": {
    "name": "ipython",
    "version": 3
   },
   "file_extension": ".py",
   "mimetype": "text/x-python",
   "name": "python",
   "nbconvert_exporter": "python",
   "pygments_lexer": "ipython3",
   "version": "3.8.3"
  }
 },
 "nbformat": 4,
 "nbformat_minor": 4
}
